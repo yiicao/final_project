{
  "nbformat": 4,
  "nbformat_minor": 0,
  "metadata": {
    "colab": {
      "name": "SI_507_W3L2_Classes&Objects.ipynb",
      "private_outputs": true,
      "provenance": [],
      "collapsed_sections": []
    },
    "kernelspec": {
      "name": "python3",
      "display_name": "Python 3"
    }
  },
  "cells": [
    {
      "cell_type": "markdown",
      "metadata": {
        "id": "S9Y6W5-Sq8-B"
      },
      "source": [
        "# **Classes & Objects**\n",
        "\n",
        "Everything in python is an object. \n",
        "\n",
        "Objects in python belong to classes. \n",
        "\n",
        "Classes can be thought of as stict patterns or templates that define both the struction and behavior of an object in python. \n",
        "\n"
      ]
    },
    {
      "cell_type": "code",
      "metadata": {
        "id": "9Pg4xW5Ls3Bl"
      },
      "source": [
        "List1 = [1, 2, 6]\n",
        "print(type(List1))"
      ],
      "execution_count": null,
      "outputs": []
    },
    {
      "cell_type": "code",
      "metadata": {
        "id": "6xetOonktLlW"
      },
      "source": [
        "List1.append('b')  # append isnt a universal function \n",
        "# append is a *method* of list class\n",
        "print(List1)"
      ],
      "execution_count": null,
      "outputs": []
    },
    {
      "cell_type": "code",
      "metadata": {
        "id": "pDV7EC1LtdU2"
      },
      "source": [
        "string1 = \"We live in interesting times\"\n",
        "print(type(string1))"
      ],
      "execution_count": null,
      "outputs": []
    },
    {
      "cell_type": "code",
      "metadata": {
        "id": "zw1Fy_srtqd1"
      },
      "source": [
        "string1.append('b')  # prove to yourself that append doesn't work for strings.\n",
        "print(string1)"
      ],
      "execution_count": null,
      "outputs": []
    },
    {
      "cell_type": "markdown",
      "metadata": {
        "id": "iRD0Dh-ft5TH"
      },
      "source": [
        "Lets look at another more specialized class that comes in one of the core Python libraries"
      ]
    },
    {
      "cell_type": "code",
      "metadata": {
        "id": "ryOfIM_duFnm"
      },
      "source": [
        "import datetime\n",
        "\n",
        "date_now = datetime.datetime.now()\n",
        "\n",
        "print(date_now.year)\n",
        "print(date_now.month)\n",
        "print(date_now.day)\n",
        "\n",
        "print(date_now)\n",
        "date_now = date_now.replace(2019, day=8) # first param is year\n",
        "print(date_now)\n",
        "print(type(date_now))"
      ],
      "execution_count": null,
      "outputs": []
    },
    {
      "cell_type": "markdown",
      "metadata": {
        "id": "FjOs0sUguItv"
      },
      "source": [
        "```date_now``` is an object of ```datetime```\n",
        "```year```,```month```, and ```day``` are **attributes** (or variables) of ```datetype``` class\n",
        "\n",
        "```replace()``` is a method or built-in function of ```datetime```"
      ]
    },
    {
      "cell_type": "markdown",
      "metadata": {
        "id": "hsHQI3iVu17W"
      },
      "source": [
        "## **Classes**\n",
        "\n",
        "Python starts to get powerful wehn we make our own classes. \n",
        "\n",
        "A _class_ is a blueprint for a type of object that lays out the kinds of _attributes_ and _methods_ that are availble to it. \n",
        "\n",
        "Using classes makes code more readable. \n",
        "\n",
        "It also makes it easier to code!\n",
        "\n",
        "Think of classes as a template or blueprint. the class is not what is doing things - the objects of the class - thats what  is actually doing work - in your case processing data."
      ]
    },
    {
      "cell_type": "code",
      "metadata": {
        "id": "GeItGfYSvuO9"
      },
      "source": [
        "### Example of Class Definition  \n",
        "class Dog:\n",
        "\n",
        "  def __init__(self, nm, br):\n",
        "    self.name = nm\n",
        "    self.breed = br\n",
        "\n",
        "#### End of Class Definition\n",
        "\n",
        "### Now we instantiate (create) objects of this class\n",
        "\n",
        "d1 = Dog('Fido', 'German Shepherd')\n",
        "d2 = Dog('Rufus', 'Lhasa Apso')\n",
        "print (d1.name, 'is a', d1.breed)\n",
        "print (d2.name, 'is a', d2.breed)"
      ],
      "execution_count": null,
      "outputs": []
    },
    {
      "cell_type": "markdown",
      "metadata": {
        "id": "nGsZyeYgwBw3"
      },
      "source": [
        "we've created two objects ```d1``` and ```d2``` of the dog class. \n",
        "\n",
        "these objects have different data but they have the same structure. "
      ]
    },
    {
      "cell_type": "code",
      "metadata": {
        "id": "JFt7ArC_wYZh"
      },
      "source": [
        "### use comments to annotate this code so you understand what is happening!\n",
        "class Dog:\n",
        "\n",
        "  def __init__(self, nm, br):\n",
        "    self.name = nm\n",
        "    self.breed = br\n",
        "\n",
        "d1 = Dog('Fido', 'German Shepherd')\n",
        "d2 = Dog('Rufus', 'Lhasa Apso')\n",
        "print (d1.name, 'is a', d1.breed)\n",
        "print (d2.name, 'is a', d2.breed)"
      ],
      "execution_count": null,
      "outputs": []
    },
    {
      "cell_type": "markdown",
      "metadata": {
        "id": "iDo6tWFNwkIA"
      },
      "source": [
        "now lets add a method to our class. Annotate this code. Pause the video and predict the outcome before hitting play."
      ]
    },
    {
      "cell_type": "code",
      "metadata": {
        "id": "EI8CuEbOwp8M"
      },
      "source": [
        "# BEGIN CLASS DEFINITION\n",
        "class Dog:\n",
        "\n",
        "    def __init__(self, nm, br):\n",
        "        self.name = nm\n",
        "        self.breed = br\n",
        "\n",
        "    def describe(self):\n",
        "        return self.name + ' is a ' + self.breed\n",
        "\n",
        "# END CLASS DEFINITION\n",
        "\n",
        "d3 = Dog('Benny', 'Mutt')\n",
        "print(d3.describe())\n",
        "d3.breed = 'Labradoodle'\n",
        "print(d3.describe())"
      ],
      "execution_count": null,
      "outputs": []
    },
    {
      "cell_type": "markdown",
      "metadata": {
        "id": "5rjKp00Jw0BQ"
      },
      "source": [
        "# **Class vs Instance Attributes**\n",
        "\n",
        "an intricacy that may trip you up is demonstrated here. Use in-code commenting to document it. "
      ]
    },
    {
      "cell_type": "code",
      "metadata": {
        "id": "JKsyBffaxGcg"
      },
      "source": [
        "class Dog:\n",
        "    large_dogs = ['German Shepherd', 'Golden Retriever',\n",
        "                  'Rottweiler', 'Collie',\n",
        "                  'Mastiff', 'Great Dane']\n",
        "    small_dogs = ['Lhasa Apso', 'Yorkshire Terrier',\n",
        "                  'Beagle', 'Dachshund', 'Shih Tzu']\n",
        "\n",
        "    def __init__(self, nm, br):\n",
        "        self.name = nm\n",
        "        self.breed = br\n",
        "\n",
        "    def speak(self):\n",
        "        if self.breed in Dog.large_dogs:\n",
        "            print('woof')\n",
        "        elif self.breed in Dog.small_dogs:\n",
        "            print('yip')\n",
        "        else:\n",
        "            print('rrrrr')\n",
        "d1 = Dog('Fido', 'German Shepherd')\n",
        "d2 = Dog('Rufus', 'Lhasa Apso')\n",
        "d3 = Dog('Fred', 'Mutt')\n",
        "d1.speak()\n",
        "d2.speak()\n",
        "d3.speak()"
      ],
      "execution_count": null,
      "outputs": []
    },
    {
      "cell_type": "markdown",
      "metadata": {
        "id": "7mJDs6UFxVd1"
      },
      "source": [
        "This is an example that involves _class attributes_ rather than _instance attributes_.  \n",
        "\n",
        "`small_dogs` and `large_dogs` belong to the whole class and all instances can access them. whereas instance attributes are only attached to ```self```\n",
        "\n",
        "Two key points:\n",
        "*   unlike instance attributes, class attributes can be defined outside of any method\n",
        "*   to reference class attributes use the `class` name (Dog) rather then `self`\n",
        "\n",
        "Class attributes are used for defining constants or other data that can't be changed and must be accessible to all.\n"
      ]
    },
    {
      "cell_type": "code",
      "metadata": {
        "id": "v6OggLUcyrF0"
      },
      "source": [
        "#Some notes on class variables\n",
        "\n",
        "print(Dog.large_dogs) # works, because large_dogs belongs to the class\n",
        "print(d1.large_dogs) # works, because instances can access class variables\n",
        "print(Dog.breed) # does NOT work because breed is an instance variable\n",
        "print(Dog.speak()) # also does NOT work\n",
        "\n",
        "#Be careful with class variables\n",
        "d1.large_dogs.append('Doberman')\n",
        "print(d3.large_dogs) # shows that large_dogs was changes for ALL instances"
      ],
      "execution_count": null,
      "outputs": []
    },
    {
      "cell_type": "markdown",
      "metadata": {
        "id": "hDYdptWnyzCW"
      },
      "source": [
        "# **Using Classes**\n",
        "\n",
        "Classes enable reusability which can streamline your code. \n",
        "\n",
        "```\n",
        "class Dog:\n",
        "    large_dogs = ['German Shepherd', 'Golden Retriever', 'Rottweiler',\n",
        "                 'Collie', 'Mastiff', 'Great Dane']\n",
        "    small_dogs = ['Lhasa Apso', 'Yorkshire Terrier',\n",
        "                  'Beagle', 'Dachshund', 'Shih Tzu']\n",
        "\n",
        "    def __init__(self, nm, br):\n",
        "        self.name = nm\n",
        "        self.breed = br\n",
        "\n",
        "    def speak(self):\n",
        "        if self.breed in Dog.large_dogs:\n",
        "            print('woof')\n",
        "        elif self.breed in Dog.small_dogs:\n",
        "            print('yip')\n",
        "        else:\n",
        "            print('rrrrr')\n",
        "\n",
        "kennel = [\n",
        "    Dog('Fido', 'German Shepherd'),\n",
        "    Dog('Rufus', 'Lhasa Apso'),\n",
        "    Dog('Fred', 'Mutt')\n",
        "    ]\n",
        "\n",
        "for dog in kennel:\n",
        "    dog.speak()\n",
        "```\n",
        "\n",
        "The `for` loop in this code looks simple - but it shows how powerful classes can be.\n",
        "\n",
        "You can write code that manipulates complex objects (usually more complex than our Dog) in a uniform way. \n"
      ]
    },
    {
      "cell_type": "code",
      "metadata": {
        "id": "xMiCJqC_dUMz"
      },
      "source": [
        "kennel = [\r\n",
        "    Dog('Fido', 'German Shepherd'),\r\n",
        "    Dog('Rufus', 'Lhasa Apso'),\r\n",
        "    Dog('Fred', 'Mutt')\r\n",
        "    ]\r\n",
        " \r\n",
        "for dog in kennel:\r\n",
        "    dog.speak()"
      ],
      "execution_count": null,
      "outputs": []
    },
    {
      "cell_type": "markdown",
      "metadata": {
        "id": "fN3BNotWzuDr"
      },
      "source": [
        "# **Classes Docstrings**\n",
        "\n",
        "Classes have a lot of structure and functionality that is not immediately apparent - therefore we need docstrings for this.\n",
        "\n",
        "\n",
        "\n",
        "```\n",
        "\n",
        "class Dog:\n",
        "    '''A dog that speaks!\n",
        "    Attributes\n",
        "    ----------\n",
        "    name : string\n",
        "        The dog's name\n",
        "    breed : string\n",
        "        The dog's breed, as defined by https://www.akc.org/dog-breeds/\n",
        "    '''\n",
        "    large_dogs = ['German Shepherd', 'Golden Retriever',\n",
        "                  'Rottweiler', 'Collie',\n",
        "                  'Mastiff', 'Great Dane']\n",
        "    small_dogs = ['Lhasa Apso', 'Yorkshire Terrier',\n",
        "                  'Beagle', 'Dachshund', 'Shih Tzu']\n",
        "\n",
        "    def __init__(self, nm, br):\n",
        "        self.name = nm\n",
        "        self.breed = br\n",
        "\n",
        "    def speak(self):\n",
        "        '''Print the sound the dog makes, as appropriate for their breed\n",
        "        \n",
        "        Looks up the dog breed to see if it is a large or small dog, \n",
        "        then prints the appropriate dog vocalization. This function \n",
        "        prints directly, it does not return the vocalization string.\n",
        "        \n",
        "        See Dog.large_dogs and Dog.small_dogs for the lists of each.\n",
        "\n",
        "        Parameters\n",
        "        ----------\n",
        "        none\n",
        "\n",
        "        Returns\n",
        "        -------\n",
        "        none\n",
        "        '''\n",
        "        if self.breed in Dog.large_dogs:\n",
        "            print('woof')\n",
        "        elif self.breed in Dog.small_dogs:\n",
        "            print('yip')\n",
        "        else:\n",
        "            print('rrrrr')\n",
        "\n",
        "kennel = [\n",
        "    Dog('Fido', 'German Shepherd'),\n",
        "    Dog('Rufus', 'Lhasa Apso'),\n",
        "    Dog('Fred', 'Mutt')\n",
        "    ]\n",
        "```"
      ]
    },
    {
      "cell_type": "code",
      "metadata": {
        "id": "dbe9xyLSzHXY"
      },
      "source": [
        "class Dog:\r\n",
        "    '''A dog that speaks!\r\n",
        "    Attributes\r\n",
        "    ----------\r\n",
        "    name : string\r\n",
        "        The dog's name\r\n",
        "    breed : string\r\n",
        "        The dog's breed, as defined by https://www.akc.org/dog-breeds/\r\n",
        "    '''\r\n",
        "    large_dogs = ['German Shepherd', 'Golden Retriever',\r\n",
        "                  'Rottweiler', 'Collie',\r\n",
        "                  'Mastiff', 'Great Dane']\r\n",
        "    small_dogs = ['Lhasa Apso', 'Yorkshire Terrier',\r\n",
        "                  'Beagle', 'Dachshund', 'Shih Tzu']\r\n",
        " \r\n",
        "    def __init__(self, nm, br):\r\n",
        "        self.name = nm\r\n",
        "        self.breed = br\r\n",
        " \r\n",
        "    def speak(self):\r\n",
        "        '''Print the sound the dog makes, as appropriate for their breed\r\n",
        " \r\n",
        "        Looks up the dog breed to see if it is a large or small dog, \r\n",
        "        then prints the appropriate dog vocalization. This function \r\n",
        "        prints directly, it does not return the vocalization string.\r\n",
        " \r\n",
        "        See Dog.large_dogs and Dog.small_dogs for the lists of each.\r\n",
        " \r\n",
        "        Parameters\r\n",
        "        ----------\r\n",
        "        none\r\n",
        " \r\n",
        "        Returns\r\n",
        "        -------\r\n",
        "        none\r\n",
        "        '''\r\n",
        "        if self.breed in Dog.large_dogs:\r\n",
        "            print('woof')\r\n",
        "        elif self.breed in Dog.small_dogs:\r\n",
        "            print('yip')\r\n",
        "        else:\r\n",
        "            print('rrrrr')\r\n",
        " \r\n",
        "kennel = [\r\n",
        "    Dog('Fido', 'German Shepherd'),\r\n",
        "    Dog('Rufus', 'Lhasa Apso'),\r\n",
        "    Dog('Fred', 'Mutt')\r\n",
        "    ]"
      ],
      "execution_count": null,
      "outputs": []
    }
  ]
}