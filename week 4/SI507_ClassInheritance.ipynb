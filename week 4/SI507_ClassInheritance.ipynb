{
  "nbformat": 4,
  "nbformat_minor": 0,
  "metadata": {
    "colab": {
      "name": "SI_507_W4L1_Classes&Inheritance.ipynb",
      "private_outputs": true,
      "provenance": [],
      "collapsed_sections": []
    },
    "kernelspec": {
      "name": "python3",
      "display_name": "Python 3"
    }
  },
  "cells": [
    {
      "cell_type": "markdown",
      "metadata": {
        "id": "UpoBI2PmbeeB"
      },
      "source": [
        "# **Classes, subclasses & Inheritance**\n",
        "\n",
        "Quick Review of Classes format\n"
      ]
    },
    {
      "cell_type": "code",
      "metadata": {
        "id": "vXxEIM8qbT-W"
      },
      "source": [
        "class ClassNameRectangle(): # Classes use CamelCase by convention\n",
        "  \n",
        "  def __init__(self, height, width): \n",
        "    #the dunder-init method inistializes an instance of the class and collects its attributes. \n",
        "    # Self is always the first parameter\n",
        "    self.__height = height\n",
        "    self.__width = width\n",
        "\n",
        "  def getDiagonal(self): #another method\n",
        "    return ((float(self.__height)**2 + float(self.__width)**2)**.5)"
      ],
      "execution_count": null,
      "outputs": []
    },
    {
      "cell_type": "markdown",
      "metadata": {
        "id": "mHzXhVZteQ_E"
      },
      "source": [
        "And a reminder of how we use classes"
      ]
    },
    {
      "cell_type": "code",
      "metadata": {
        "id": "58-aWiaYe2Q4"
      },
      "source": [
        "TV = ClassNameRectangle(25,44)"
      ],
      "execution_count": null,
      "outputs": []
    },
    {
      "cell_type": "code",
      "metadata": {
        "id": "66A4XgqTfm9o"
      },
      "source": [
        "TV.getDiagonal()"
      ],
      "execution_count": null,
      "outputs": []
    },
    {
      "cell_type": "markdown",
      "metadata": {
        "id": "nJYUq5mofo-X"
      },
      "source": [
        "So now lets work with a more meaningful example.  Imagine you had a python program that was used to calculate several building regulations in a straight-forward way based on the size of the building.\n"
      ]
    },
    {
      "cell_type": "code",
      "metadata": {
        "id": "ahUfO-uNhDxH"
      },
      "source": [
        "class Building():\n",
        "  def __init__(self, nm, length_feet, width_feet):\n",
        "    self.length = length_feet\n",
        "    self.width = width_feet\n",
        "    self.name = nm  #notice unlike functions the order doesn't matter in the constructor\n",
        "  def MaximumOccupancy(self):\n",
        "    print(\"The maximum occupancy of\", self.name, \" is \", round(self.length*self.width/5), \" people.\")\n",
        "  def BathroomsRequired(self):\n",
        "    print(self.name, \" requires \", round(self.length*self.width/1000), \" bathrooms.\")\n",
        "  def SmokeAlarmsRequired(self):\n",
        "    print(self.name, \" requires \", round(self.length*self.width/1500), \" smoke alarms.\")\n",
        "  def ExitsRequired(self):\n",
        "    print(self.name, \" requires \", (round((self.length+self.width)/80) +1), \" exits.\")"
      ],
      "execution_count": null,
      "outputs": []
    },
    {
      "cell_type": "code",
      "metadata": {
        "id": "dvp4Pz0ajsTc"
      },
      "source": [
        "BarLouie = Building(\"Bar Louie\", 40,75)\n",
        "\n",
        "BarLouie.MaximumOccupancy()\n",
        "BarLouie.BathroomsRequired()\n",
        "BarLouie.SmokeAlarmsRequired()\n",
        "BarLouie.ExitsRequired()"
      ],
      "execution_count": null,
      "outputs": []
    },
    {
      "cell_type": "markdown",
      "metadata": {
        "id": "s4FDok2llLGB"
      },
      "source": [
        "Imagine that there is a situation in which there is an uncontrolled respiratory virus. In this circumstance you may need to adjust the maximum occupancy of different buildings based on the prevalence of the virus, the ventilation of the building and the reliance of that business on in-person services. You wouldn't need to change the other parts of the building regulations\n",
        "\n",
        "Instead of remaking the clases, you can just make what is called a *subclass* \n",
        "\n",
        "Lets take a look at the example below. \n",
        "\n",
        "Pause the video and see if you can predict what will happen?"
      ]
    },
    {
      "cell_type": "code",
      "metadata": {
        "id": "tp7HGKTYm659"
      },
      "source": [
        "class Bars(Building):\n",
        "  def __init__(self, nm, length_feet, width_feet):\n",
        "    self.length = length_feet\n",
        "    self.width = width_feet\n",
        "    self.name = nm\n",
        "  \n",
        "  def MaximumOccupancy(self):\n",
        "    print(\"The maximum occupancy of\", self.name, \" is \", round(self.length*self.width/20), \" people.\")\n",
        "\n",
        "class OfficeBuildings(Building): \n",
        "  def __init__(self, nm, length_feet, width_feet):\n",
        "    self.length = length_feet\n",
        "    self.width = width_feet\n",
        "    self.name = nm\n",
        "  \n",
        "  def MaximumOccupancy(self):\n",
        "    print(\"The maximum occupancy of\", self.name, \" is \", round(self.length*self.width/133), \" people.\")\n",
        "\n",
        "BarLouie = Bars(\"Bar Louie\", 40,75)\n",
        "MaynardOffice = OfficeBuildings(\"Maynard Office\", 50,40)\n",
        "\n",
        "AnnArborBuildings = [BarLouie, MaynardOffice]\n",
        "\n",
        "for x in AnnArborBuildings:\n",
        "  x.MaximumOccupancy()\n",
        "  x.BathroomsRequired()\n",
        "  x.SmokeAlarmsRequired()\n",
        "  x.ExitsRequired()"
      ],
      "execution_count": null,
      "outputs": []
    },
    {
      "cell_type": "markdown",
      "metadata": {
        "id": "P8xT0P_oqa4-"
      },
      "source": [
        "Bars and OfficeBuildings are *subclasses* of Buildings\n",
        "\n",
        "Buildings are the *superclass* of Bars and OfficeBuildings.\n",
        "\n",
        "You can think of *subclasses* and *superclasses* as \"child\" and \"parent\" classes.\n",
        "\n",
        "The relationship is defined in the class defintion. recall:\n",
        "\n",
        "`class Bars(Buildings):`\n",
        "\n",
        "Bars and OfficeBuildings overide the `__init__()` method. They also override the *instance attribute* `self.name`, `self.length`, `self.width`\n",
        "\n",
        "Bars & OfficeBuildings override the `MaximumOccupancy()` method from Buildings, and inherit `ExitsRequired`, `SmokeAlarmsRequired()` and `BathroomsRequired()`.  \n",
        "By default subclasses automatically inherit methods and attributes of a superclass *unless* they override them."
      ]
    },
    {
      "cell_type": "code",
      "metadata": {
        "id": "3MsAxtpFtqy0"
      },
      "source": [
        "class Building():\n",
        "  def __init__(self, nm, length_feet, width_feet):\n",
        "    self.length = length_feet\n",
        "    self.width = width_feet\n",
        "    self.name = nm  #notice unlike functions the order doesn't matter.\n",
        "  def MaximumOccupancy(self):\n",
        "    print(\"The maximum occupancy of\", self.name, \" is \", round(float(self.length)*float(self.width)/5), \" people.\")\n",
        "  def BathroomsRequired(self):\n",
        "    print(self.name, \" requires \", round(float(self.length)*float(self.width)/1000), \" bathrooms.\")\n",
        "  def SmokeAlarmsRequired(self):\n",
        "    print(self.name, \" requires \", round(float(self.length)*float(self.width)/1500), \" smoke alarms.\")\n",
        "  def ExitsRequired(self):\n",
        "    print(self.name, \" requires \", (round((float(self.length)+float(self.width))/80) +1), \" exits.\")\n",
        "\n",
        "class Bars(Building):\n",
        "  pass  ## what does this do?  How do you use this subclass?\n",
        "  def MaximumOccupancy(self):\n",
        "    print(\"The maximum occupancy of\", self.name,\" is \", round(float(self.length)*float(self.width)/20), \" people.\")\n",
        "\n",
        "class OfficeBuildings(Building): \n",
        "  def __init__(self, nm, length_feet, width_feet):\n",
        "    super().__init__(nm, length_feet, width_feet) ##What does this do?\n",
        "    self.width = width_feet\n",
        "  def MaximumOccupancy(self):\n",
        "    print(\"The maximum occupancy of\", self.name,\" is \",round(float(self.length)*float(self.width)/133), \" people.\")\n",
        "\n",
        "\n",
        "class FarmersMarket(Building):\n",
        "  def __init__(self, nm, length_feet, width_feet, masks_status):\n",
        "    self.length = length_feet\n",
        "    self.width = width_feet\n",
        "    self.name = nm\n",
        "    self.masks_status = masks_status  #Note: you can introduce a new attribute in the Subclass\n",
        "  def SmokeAlarmsRequired(self):\n",
        "    print(\"No Smoke Alarm Required\")\n",
        "  def MaskAnnouncement(self):\n",
        "    print(\"Masks are \", self.masks_status, \" at \", self.name)\n"
      ],
      "execution_count": null,
      "outputs": []
    },
    {
      "cell_type": "code",
      "metadata": {
        "id": "4KRbbSkMvt5G"
      },
      "source": [
        "BarLouie = Bars(\"Bar Louie\", 40,75)\n",
        "MaynardOffice = OfficeBuildings(\"Maynard Office\", 50,40)\n",
        "AnnArborFarmersMarket = FarmersMarket(\"Ann Arbor Farmer's Market\", 60, 80, \"required\")\n",
        "\n",
        "AnnArborBuildings = [BarLouie, MaynardOffice, AnnArborFarmersMarket]\n",
        "\n",
        "for x in AnnArborBuildings:\n",
        "  x.MaximumOccupancy()\n",
        "  x.BathroomsRequired()\n",
        "  x.SmokeAlarmsRequired()\n",
        "  x.ExitsRequired()\n",
        "  print(\" \")\n",
        "\n",
        "AnnArborFarmersMarket.MaskAnnouncement()"
      ],
      "execution_count": null,
      "outputs": []
    },
    {
      "cell_type": "markdown",
      "metadata": {
        "id": "vqbNcy_z9JL6"
      },
      "source": [
        "## **Key Takeaway: The most specific attribute or method takes precedence**"
      ]
    },
    {
      "cell_type": "markdown",
      "metadata": {
        "id": "hLWRTunDsEld"
      },
      "source": [
        "Also keep in mind that the `super()` can be used for methods too.  See the example below."
      ]
    },
    {
      "cell_type": "code",
      "metadata": {
        "id": "PptxPZUn6jDf"
      },
      "source": [
        "class Building():\n",
        "  def __init__(self, nm, length_feet, width_feet):\n",
        "    self.length = length_feet\n",
        "    self.width = width_feet\n",
        "    self.name = nm  #notice unlike functions the order doesn't matter.\n",
        "  def MaximumOccupancy(self):\n",
        "    print(\"The maximum occupancy of\", self.name, \" is \", round(float(self.length)*float(self.width)/5), \" people.\")\n",
        "  def BathroomsRequired(self):\n",
        "    print(self.name, \" requires \", round(float(self.length)*float(self.width)/1000), \" bathrooms.\")\n",
        "  def SmokeAlarmsRequired(self):\n",
        "    print(self.name, \" requires \", round(float(self.length)*float(self.width)/1500), \" smoke alarms.\")\n",
        "  def ExitsRequired(self):\n",
        "    print(self.name, \" requires \", (round((float(self.length)+float(self.width))/80) +1), \" exits.\")\n",
        "  def MaskAnnouncement(self):\n",
        "    print(\"Masks are required at \", self.name)\n",
        "  \n",
        "\n",
        "class FarmersMarket(Building):\n",
        "  pass\n",
        "  def SmokeAlarmsRequired(self):\n",
        "    print(\"No Smoke Alarm Required\")\n",
        "  def MaskAnnouncement(self):\n",
        "   return super().MaskAnnouncement(), \" by decree of the Governor\" #note the use of super().methed()\n",
        "\n",
        "\n",
        "A = FarmersMarket(\"Dexter Farmer's Market\", 60, 44)\n",
        "\n",
        "A.MaskAnnouncement()  #Why does this produced something unexpected?"
      ],
      "execution_count": null,
      "outputs": []
    },
    {
      "cell_type": "code",
      "metadata": {
        "id": "Wt7Ujg4l7Kax"
      },
      "source": [
        "class Building():\n",
        "  def __init__(self, nm, length_feet, width_feet):\n",
        "    self.length = length_feet\n",
        "    self.width = width_feet\n",
        "    self.name = nm  #notice unlike functions the order doesn't matter.\n",
        "  def MaximumOccupancy(self):\n",
        "    print(\"The maximum occupancy of\", self.name, \" is \", round(float(self.length)*float(self.width)/5), \" people.\")\n",
        "  def BathroomsRequired(self):\n",
        "    print(self.name, \" requires \", round(float(self.length)*float(self.width)/1000), \" bathrooms.\")\n",
        "  def SmokeAlarmsRequired(self):\n",
        "    print(self.name, \" requires \", round(float(self.length)*float(self.width)/1500), \" smoke alarms.\")\n",
        "  def ExitsRequired(self):\n",
        "    print(self.name, \" requires \", (round((float(self.length)+float(self.width))/80) +1), \" exits.\")\n",
        "  def MaskAnnouncement(self):\n",
        "    return \"Masks are required at \" + self.name\n",
        "  \n",
        "\n",
        "class FarmersMarket(Building):\n",
        "  pass\n",
        "  def SmokeAlarmsRequired(self):\n",
        "    print(\"No Smoke Alarm Required\")\n",
        "  def MaskAnnouncement(self):\n",
        "   print(super().MaskAnnouncement(), \" by decree of the Governor\")\n",
        "\n",
        "\n",
        "A = FarmersMarket(\"Dexter Farmer's Market\", 60, 44)\n",
        "\n",
        "A.MaskAnnouncement()  #Why does this work better? Hint look where Return & Print were used"
      ],
      "execution_count": null,
      "outputs": []
    }
  ]
}