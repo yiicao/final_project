{
 "metadata": {
  "language_info": {
   "codemirror_mode": {
    "name": "ipython",
    "version": 3
   },
   "file_extension": ".py",
   "mimetype": "text/x-python",
   "name": "python",
   "nbconvert_exporter": "python",
   "pygments_lexer": "ipython3",
   "version": "3.8.5-final"
  },
  "orig_nbformat": 2,
  "kernelspec": {
   "name": "python3",
   "display_name": "Python 3",
   "language": "python"
  }
 },
 "nbformat": 4,
 "nbformat_minor": 2,
 "cells": [
  {
   "source": [
    "This assignment is best done using jupyter notebooks. Please see the following resource for enabling jupyter notebooks on VS code: https://code.visualstudio.com/docs/python/jupyter-support \n",
    "\n",
    "You are welcome to use a different editor.  Uploading the notebook to google collaboratory is an option but you should leave this semester with the ability to run jupyter notebooks locally.\n",
    "\n",
    "This homework assignment will build a model of the schelling segregation simulation.  To do this we will use list comprehensions, lambda functions, classes and class inheritance. Presumably you are familiar with list comprehensions and advanced functions from 506. References to online resources will be provided to help refresh your memory. "
   ],
   "cell_type": "markdown",
   "metadata": {}
  },
  {
   "source": [
    "In the code cell below is a function for plotting the agents we create. Don't worry, you won't need to know anything about plotting. All you have to do is use your knowledge of list methods to add the x and y coordinates of the 'agent_to_be_plotted' to our lists of coordinates to plot "
   ],
   "cell_type": "markdown",
   "metadata": {}
  },
  {
   "cell_type": "code",
   "execution_count": 3,
   "metadata": {},
   "outputs": [],
   "source": [
    "#### This cell contains some of the libraries that you need to run this model. These should all be easily installed. Please contact us via slack if you have problems\n",
    "import random\n",
    "import matplotlib.pyplot as plt\n",
    "from IPython import display\n",
    "import time\n",
    "%matplotlib inline\n",
    "random.seed(10) # for reproducible random numbers"
   ]
  },
  {
   "source": [
    "First use what we learned in lecture and lab this week to define a class called Agent using a constructor. The constructor should take 2 arguments that provide attributes called x and y for the x and y location of the objects that we create. In the cell below we have incorrect code that you will need to correct to properly define the class. There are 5 errors in the code cell below (more depending on how you count instances of the same error). "
   ],
   "cell_type": "markdown",
   "metadata": {}
  },
  {
   "cell_type": "code",
   "execution_count": 4,
   "metadata": {},
   "outputs": [],
   "source": [
    "class Agent:\n",
    "    def __init__(self, xlocation, ylocation):\n",
    "        self.xlocation = xlocation\n",
    "        self.ylocation = ylocation"
   ]
  },
  {
   "cell_type": "code",
   "execution_count": 5,
   "metadata": {},
   "outputs": [],
   "source": [
    "def map_an_agent(agent_to_be_plotted):\n",
    "    agents_XCoordinate = [] # this is an empty list that will store our X-coordinates, don't change this command\n",
    "    agents_YCoordinate = [] # this is an empty list that will store our y-coordinates, don't change this command\n",
    "    \n",
    "    agents_XCoordinate.append(agent_to_be_plotted.xlocation) #### in this line add the x attribute of the agent to be plotted to the list agents_XCoordinate. There's a built in list method - you don't need a loop\n",
    "    agents_YCoordinate.append(agent_to_be_plotted.ylocation)#### in this line add the y attribute of the agent to be plotted to the list agents_XCoordinate. There's a built in list method - you don't need a loop\n",
    "    \n",
    "    fig, ax = plt.subplots(figsize=(5, 5))\n",
    "    ax.set_facecolor('azure')\n",
    "    ax.plot(agents_XCoordinate, agents_YCoordinate, 'o', markerfacecolor='purple')\n",
    "    plt.xlim(-5,105)\n",
    "    plt.ylim(-5,105)\n",
    "    ax.set_title(\"Here's our map of the agents we have created\")\n",
    "    plt.show()"
   ]
  },
  {
   "source": [
    "In the code cell below create an instance of the class Agent and assign it to a variable called agent1. give your agent an x position of 22 and a y position of 55. then call the map_an_agent function to produce a map.  The map that gets made should look like Plot1 in the pdf that comes with this assignment."
   ],
   "cell_type": "markdown",
   "metadata": {}
  },
  {
   "cell_type": "code",
   "execution_count": null,
   "metadata": {},
   "outputs": [],
   "source": [
    "#Initialize 1 agent.\n",
    "agent1 = Agent(22, 55)\n",
    "map_an_agent(agent1)###call the function from the prior cell to draw a map of where your agent is."
   ]
  },
  {
   "source": [
    "Now instantiate another object from the class Agent and assign it to a variable called agent2. give this agent an x position of 66 and a y position of 88. Again, call the map_an_agent function to produce a map.  The map that gets made should look like Plot2 in the pdf that comes with this assignment."
   ],
   "cell_type": "markdown",
   "metadata": {}
  },
  {
   "cell_type": "code",
   "execution_count": null,
   "metadata": {},
   "outputs": [],
   "source": [
    "agent2 = pass \n",
    "####call the function to map this agent"
   ]
  },
  {
   "source": [
    "Did you notice that we can only map 1 agent at a time with our prior function?  Let's modify our function so it will map all our agents. The way that we can do this is by passing a list of agents as the input argument for this function. Last time we directly added the attributes into the agents_XCoordinate and agents_YCoordinate list.  Let's change that command so that it adds the attributes of all the objects in a list.  There are a couple of ways to do this but for now you can use a for loop."
   ],
   "cell_type": "markdown",
   "metadata": {}
  },
  {
   "cell_type": "code",
   "execution_count": null,
   "metadata": {},
   "outputs": [],
   "source": [
    "def map_all_agents():  # what arguments should go in this function?\n",
    "\n",
    "    agents_XCoordinate = [] # this is an empty list that will store our X-coordinates, don't change this command\n",
    "    agents_YCoordinate = [] # this is an empty list that will store our y-coordinates, don't change this command\n",
    "    \n",
    "    #Use a for loop to add all the x attributes from our list of objects to the agents_XCoordinate list and all the y attributes from our list of objects to the agents_YCoordinate list \n",
    "    \n",
    "    fig, ax = plt.subplots(figsize=(5, 5))\n",
    "    ax.set_facecolor('azure')\n",
    "    ax.plot(agents_XCoordinate, agents_YCoordinate, 'o', markerfacecolor='purple')\n",
    "    plt.xlim(-5,105)\n",
    "    plt.ylim(-5,105)\n",
    "    ax.set_title(\"Here's our map of the agents we have created\")\n",
    "    plt.show()"
   ]
  },
  {
   "source": [
    "Now add the two agents we have created to a list, lets call it agents_list.  Then use the function we just created to map those agents. The map you generate should be identical to plot 3 in the pdf."
   ],
   "cell_type": "markdown",
   "metadata": {}
  },
  {
   "cell_type": "code",
   "execution_count": null,
   "metadata": {},
   "outputs": [],
   "source": [
    "agents_list = ### add the agents we have created previously to this list\n",
    "##Use the function we just created to map our agents"
   ]
  },
  {
   "source": [
    "Look at the following cell. What do you think will happen when you run it? What will happen if you run it twice? Or three times? What if I told you, it would print 73 each time you tried it. Go ahead and try it."
   ],
   "cell_type": "markdown",
   "metadata": {}
  },
  {
   "cell_type": "code",
   "execution_count": null,
   "metadata": {},
   "outputs": [],
   "source": [
    "random.seed(10)\n",
    "print(random.randint(0,100))"
   ]
  },
  {
   "cell_type": "code",
   "execution_count": null,
   "metadata": {},
   "outputs": [],
   "source": []
  },
  {
   "source": [
    "It prints 73, because thats the first random number generated with that command if we use random.seed(10). This is how we will make sure that we have the same output even though the model requires random numbers to move. Below is a function that randomly updates the attribute of each agent in our list. But I made a mistake in constructing that function. I also made a mistake in how I called the functions in that cell. If you fix those you should see a plot equivalent to Plot4 in the pdf. If you compare plot 3 and plot 4 you will see that the agents moved to their newly defined positions!"
   ],
   "cell_type": "markdown",
   "metadata": {}
  },
  {
   "cell_type": "code",
   "execution_count": null,
   "metadata": {},
   "outputs": [],
   "source": [
    "random.seed(32)\n",
    "def moveagents(listofagents):\n",
    "    for each_agent in listofagents:\n",
    "        self.x = random.randint(0,100)\n",
    "        self.y = random.randint(0,100)\n",
    "moveagents(listofagents)\n",
    "map_all_agents(listofagents)"
   ]
  },
  {
   "cell_type": "code",
   "execution_count": null,
   "metadata": {},
   "outputs": [],
   "source": []
  },
  {
   "source": [
    "Now lets do something fun. lets move the agents and map them 10 times in a row. write a loop that will implement these commands. Not every command has to go inside the loop. If your agents aren't 'moving' or your final map doesn't match plot 5 in the pdf then your order is wrong. Think about the logical way to execute the loop so that the final position of the agents are mapped."
   ],
   "cell_type": "markdown",
   "metadata": {}
  },
  {
   "cell_type": "code",
   "execution_count": null,
   "metadata": {},
   "outputs": [],
   "source": [
    "\n",
    "#put these commands into a loop that implement them 10 times. Not all commands have to go in the loop\n",
    "#these commands are not necessarily in the right order\n",
    "map_all_agents(agents_list)\n",
    "random.seed(66)\n",
    "moveagents(agents_list)\n",
    "time.sleep(1) #keep this command 4th\n",
    "display.clear_output(wait=True) #keep this command last"
   ]
  },
  {
   "source": [
    "Let's make the above loop a function that we can use on any list. Call your function make_agents_dance. What arguments should you use for this function if you want it to be generalizabe, meaning it can map any list of agents? Also make the function capable of running for any specified number of steps instead of just 10. Don't forget to make sure that the last graph stays on the screen.  "
   ],
   "cell_type": "markdown",
   "metadata": {}
  },
  {
   "cell_type": "code",
   "execution_count": null,
   "metadata": {},
   "outputs": [],
   "source": [
    "def make_agents_dance():\n",
    "    pass"
   ]
  },
  {
   "source": [
    "Below is an example of a list comprehension, presumably you learned this in 506. Run the cell below to remind you what a list comprehension is \n",
    "#visit https://www.w3schools.com/python/python_lists_comprehension.asp for more information"
   ],
   "cell_type": "markdown",
   "metadata": {}
  },
  {
   "cell_type": "code",
   "execution_count": null,
   "metadata": {},
   "outputs": [],
   "source": [
    "\n",
    "list_made_with_listcomprehension = [i*10 for i in range(10)]\n",
    "list_made_with_listcomprehension\n"
   ]
  },
  {
   "source": [
    "Now use a list comprehension to make 12 agents within a list called New_List_of_Agents. Remember that all you need to do make an object of the class agent is provide an x and a ylocation. Lets use random.randint(0,100) to provide each of those values. Check your final output vs plot6 in the pdf"
   ],
   "cell_type": "markdown",
   "metadata": {}
  },
  {
   "cell_type": "code",
   "execution_count": null,
   "metadata": {},
   "outputs": [],
   "source": [
    "random.seed(44)\n",
    "New_List_of_Agents = [???]  ### you can model your list comprehension on the example above. you really don't need a for loop. Make 12 agents.\n",
    "make_agents_dance(New_List_of_Agents, 10)\n"
   ]
  },
  {
   "source": [
    "Now lets make a subclass of Agent called AgentNew.  Agent new, in addition to its x and y coordinate attributes, should also have attributes called status and group, that will keep track of which group each instance of AgentNew is part of, and that instance is 'happy' or 'unhappy'.  Use status=\"unhappy\" in the constructor to establish a default value of unhappy.\n",
    "\n",
    "There are several errors in the code for defining the class below. Once you have fixed those errors, write a command to print the x, y and group of the last agent in your list. They should be, 28, 87, and purple, respectively."
   ],
   "cell_type": "markdown",
   "metadata": {}
  },
  {
   "cell_type": "code",
   "execution_count": null,
   "metadata": {},
   "outputs": [],
   "source": [
    "class AgentNew(Agent)):\n",
    "    def __init__.(self, group, status=\"unhappy\")\n",
    "        super().__init__(self, x, y)\n",
    "        self.group = group\n",
    "        self.status = status\n",
    "random.seed(23)\n",
    "groups = [\"Purple\", \"Gold\"]\n",
    "list_of_NewAgents = [AgentNew(random.randint(0,100), random.randint(0,100), random.choice(groups)) for x in range(35)]\n"
   ]
  },
  {
   "source": [
    "the above code randomly picks whether an agent will be purple or gold.  We may want to specify that. So, lets create two subclasses of AgentNew. Let's call them PurpleAgents and GoldAgents. Below i have flawed subclass of Purple Agents created. You can fix it simply by deleting/editing the mistakes i have made. You don't have to add any new lines.\n",
    "\n",
    "When you fix it, go ahead and create an analogous subclass called GoldAgents which has the default group=\"Gold\""
   ],
   "cell_type": "markdown",
   "metadata": {}
  },
  {
   "source": [
    "class (PurpleAgents(AgentNew)):\n",
    "    def super().__init__(self, xlocation, ylocation, group=\"Purple\", status=\"unhappy\"):\n",
    "        AgentNew.__init(self, xlocation, ylocation, group, status)\n",
    "\n",
    "b1 = PurpleAgents(3,6)\n",
    "print(b1.group)"
   ],
   "cell_type": "code",
   "metadata": {},
   "execution_count": null,
   "outputs": []
  },
  {
   "source": [
    "Let's test out our new classes and see if they work. If you complete the code in the cell below you should get a figure that looks like plot 7 in teh pdf"
   ],
   "cell_type": "markdown",
   "metadata": {}
  },
  {
   "cell_type": "code",
   "execution_count": null,
   "metadata": {},
   "outputs": [],
   "source": [
    "random.seed(15)\n",
    "List_of_PurpleAgents = [???]  ### using list comprehension make 12 PurpleAgents\n",
    "List of GoldAgents = ??? ### using list comprehension make 12 GoldAgents.\n",
    "CombinedList = ???  #### using your knowledge of list methods, combine these into 1 list\n",
    "\n",
    "def map_colorful_agents():  # what argument should go in this function?\n",
    "\n",
    "    Purple_XCoordinate = [___.x for _____ in _______ if agent.group==\"Purple\"] ####fill in the blanks to make this list comprehension work\n",
    "    Purple_YCoordinate = [???] #model this after the above list comprehension\n",
    "    Gold_XCoordinate = [???]\n",
    "    Gold_YCoordinate = [???]\n",
    "   \n",
    "  \n",
    "    fig, ax = plt.subplots(figsize=(5, 5))\n",
    "    ax.set_facecolor('azure')\n",
    "    ax.plot(Purple_XCoordinate, Purple_YCoordinate, 'o', markerfacecolor='purple')\n",
    "    ax.plot(Gold_XCoordinate, Gold_YCoordinate, 'o', markerfacecolor='gold')\n",
    "    plt.xlim(-5,105)\n",
    "    plt.ylim(-5,105)\n",
    "    ax.set_title(\"Here's our map of the agents we have created\")\n",
    "    plt.show()\n",
    "\n",
    "####call the function appropriately"
   ]
  },
  {
   "source": [
    "Now that we have some agents of different groups, lets go back and add a method to AgentNew that allows agents to move if they are unhappy. "
   ],
   "cell_type": "markdown",
   "metadata": {}
  },
  {
   "cell_type": "code",
   "execution_count": null,
   "metadata": {},
   "outputs": [],
   "source": [
    "random.seed(38)\n",
    "class AgentNew():\n",
    "\n",
    "######<Paste in your constructor>\n",
    "    \n",
    "    def move_if_unhappy(?????):  #what arguement(s) are needed here.\n",
    "        if self.status=\"unhappy\":  #### there is a mistake in this command - fix it\n",
    "            self.x = random.randint(0,100)\n",
    "            self.y = random.randint(0,100)\n",
    "\n",
    "a55 = AgentNew(24,11,\"Purple\")\n",
    "\n",
    "a55.move_if_unhappy  # there is something wrong with this command - fix it\n",
    "\n",
    "print(a55.x)  ### if your class is set up right the printed answer should be 81 not 24"
   ]
  },
  {
   "source": [
    "Let's take a quick timeout to cover filter and lambda functions. We'll need this when we write a method to help our agents calculate what group their neighbors are in.  A lambda function is a simple way of making a one-time use function. think of lambda q as saying for q, applied to the second argument. Filtering is applying a lambda function to a list for the purposes of filtering it.  Take a look at this next code block. What do you think is going to get printed out? If you're not sure, take a look at: https://www.w3schools.com/python/python_lambda.asp and https://www.w3schools.com/python/ref_func_filter.asp"
   ],
   "cell_type": "markdown",
   "metadata": {}
  },
  {
   "cell_type": "code",
   "execution_count": null,
   "metadata": {},
   "outputs": [],
   "source": [
    "seq = [0, 1, 2, 3, 5, 8, 13]\n",
    "b = 5 \n",
    "seq = list(filter(lambda q: (b-3) < q < (b + 4), seq))\n",
    "print(seq)"
   ]
  },
  {
   "source": [
    "Now, we're going to make our most complicated method. We're going to build a method called check_neighbors which will identify the agents that are within 10  x-coordinate spaces or 10 y-coordinate spaces of a given agent. Once those agents are  identified, we'll calculate if enough of them are of the same group to meet our pre-determined threshold. fill in the code below and see if you can do it. "
   ],
   "cell_type": "markdown",
   "metadata": {}
  },
  {
   "cell_type": "code",
   "execution_count": null,
   "metadata": {},
   "outputs": [],
   "source": [
    "class AgentNew():\n",
    "\n",
    "    #########  PASTE in CONSTRUCTOR #########\n",
    "\n",
    "    ######### paste in move_if_unhappy method.\n",
    "\n",
    "    def check_neighbors(self, agentlist):  # note this method needs not only the self attributes - it also needs a list of agents\n",
    "        zlist = [] #this is an empty list \n",
    "        zlist = ##### here build use a lambda function just as in the prior cell to find all agents in a list who are within 10 spaces in the X direction of the agent that is calling the method\n",
    "        zlist = ###### do the same thing now to filter for agents within 10 spaces in the y dimension. what list do you want to apply this lambda function to?\n",
    "        same_group_neighbor =  #### use list comprehension to only keep members of zlist who are of the same group as this agent\n",
    "        opposite_group_neighbor = #### use list comprehension to only keep members of zlist who are of the opposite group as this agent\n",
    "        #print(len(same_group_neighbor), \"same group neighbors, and \", len(zlist), \" total neibhors\" ) ### this is commented out but you can use this as a diagnostic to make sure its working.\n",
    "        if (len(same_group_neighbor)+.01)/(len(zlist)+.01) > group_affinity_threshold: #this command works. It checks the percentage of same group neighbors against some threshold to determine the agents happyness.\n",
    "            self.status=\"happy\"\n",
    "        else:\n",
    "            self.status=\"unhappy\"\n",
    "        \n",
    "\n",
    "        ####### even if you successfully write in all the commands this method still won't work. something is missing. What do you think it is? Hint - refer to the farmers market mask announcement example from lecture.\n",
    "\n",
    "\n",
    "\n",
    "        \n",
    "\n",
    "\n"
   ]
  },
  {
   "source": [
    "Now that you've added some methods to the class AgentNew --- can you call them from the child class?  Why or why not?  Test below and find out. If necessary, add some code to make those method available to objects from the classes PurpleAgents and GoldAgents"
   ],
   "cell_type": "markdown",
   "metadata": {}
  },
  {
   "cell_type": "code",
   "execution_count": null,
   "metadata": {},
   "outputs": [],
   "source": [
    "random.seed(34)\n",
    "p32 = PurpleAgent(14,55)\n",
    "p32.move_if_unhappy()\n",
    "print(p32.x)  #what do you expect the output to be?"
   ]
  },
  {
   "source": [
    "Now we're ready to put it all together and run a few simulations. First lets run a simulation in which there are 200 Purple and 200 Gold agents. Set the group_affinity_threshold at .51 This means that each purple or gold agent, wants to be a 'block' that is majority of their group. But as long as its a majority they will be satisfied. What happens after 15 turns?  To make sure you're running the simulation correctly test against plot 8 and plot 9 in the pdf.\n"
   ],
   "cell_type": "markdown",
   "metadata": {}
  },
  {
   "cell_type": "code",
   "execution_count": null,
   "metadata": {},
   "outputs": [],
   "source": [
    "random.seed(2021)\n",
    "group_affinity_threshold = .51\n",
    "testlist = ??? ###### create a testlist that has 200 PurpleAgents and 200 GoldAgents\n",
    "map_colorful_agents(testlist)\n",
    "for x in range(15):\n",
    "    for agent in (testlist):\n",
    "        agent.check_neighbors()  #does this need any arguments?\n",
    "    for agent in (testlist):\n",
    "        agent.move_if_unhappy() # does this need any arguments?\n",
    "    map_colorful_agents(testlist)\n",
    "    print(x)\n",
    "    time.sleep(.5)\n",
    "    display.clear_output(wait=True)"
   ]
  },
  {
   "source": [
    "What happens if we run it again but with a threshold of only 0.4? modify the cell below to test it out - but this time lets do it with 400 of each"
   ],
   "cell_type": "markdown",
   "metadata": {}
  },
  {
   "cell_type": "code",
   "execution_count": null,
   "metadata": {},
   "outputs": [],
   "source": [
    "random.seed(202)\n",
    "group_affinity_threshold = .4 \n",
    "testlist = ??? ###### create a testlist that has 200 PurpleAgents and 200 GoldAgents\n",
    "map_colorful_agents(testlist)\n",
    "for x in range(15):\n",
    "    for agent in (testlist):\n",
    "        agent.check_neighbors()  #does this need any arguments?\n",
    "    for agent in (testlist):\n",
    "        agent.move_if_unhappy() # does this need any arguments?\n",
    "    map_colorful_agents(testlist)\n",
    "    print(x)\n",
    "    time.sleep(.5)\n",
    "    display.clear_output(wait=True)"
   ]
  },
  {
   "source": [
    "Even if people don't mind being a minority in their neighborhood - you still get segregation pretty easily according to this model. For a long time models such as this were used to argue that some degree of segregation was inevitable, and therefore it should not be a target of policy. \n",
    "\n",
    "Let's challenge that assumption. Make 2 new subclasses, PurpleDiveristySeekers and GoldDiversitySeekers. Please use those exact names to allow for autograding. And for these subclasses make them seek out diversity instead of avoid it. Run some simulations with 300 traditional Purple and Gold Agents and 100 Purple and GOld Diversity Seeker agents each.  What happens then? Use random.seed(11) in each of the remaining cells."
   ],
   "cell_type": "markdown",
   "metadata": {}
  },
  {
   "cell_type": "code",
   "execution_count": null,
   "metadata": {},
   "outputs": [],
   "source": [
    "### Use this and additional cells to run the additional simulation."
   ]
  },
  {
   "source": [
    "Additional information. \n",
    " - please do the recommended reading on Classes & inheritance in Head First Python\n",
    " - to read the original Schelling Paper: https://www.uu.nl/sites/default/files/c4_schelling1969_models_segregation.pdf (this is not required at all)\n",
    " - for a thoughtful discussion about what we can learn from models such as these, check out: https://www.e-flux.com/architecture/representation/159207/the-simple-societies-of-complex-models/ "
   ],
   "cell_type": "markdown",
   "metadata": {}
  }
 ]
}