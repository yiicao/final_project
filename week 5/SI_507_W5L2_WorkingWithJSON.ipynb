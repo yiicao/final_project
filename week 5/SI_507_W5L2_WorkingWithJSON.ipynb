{
  "nbformat": 4,
  "nbformat_minor": 0,
  "metadata": {
    "colab": {
      "name": "SI_507_W4L3_WorkingWithJSON.ipynb",
      "provenance": [],
      "private_outputs": true
    },
    "kernelspec": {
      "name": "python3",
      "display_name": "Python 3"
    }
  },
  "cells": [
    {
      "cell_type": "markdown",
      "metadata": {
        "id": "4tNHnzms9pKZ",
        "colab_type": "text"
      },
      "source": [
        "# **Working with JSON**\n",
        "\n",
        "JSON often looks like dictionaries or lists, but it is simply text. \n",
        "\n",
        "Lets look again at the JSON output of our last `requests` query"
      ]
    },
    {
      "cell_type": "code",
      "metadata": {
        "id": "v43YFGaN9osc",
        "colab_type": "code",
        "colab": {}
      },
      "source": [
        "import requests\n",
        "\n",
        "response = requests.get(\"http://api.datamuse.com/words?rel_rhy=blue\")\n",
        "print(response.text)"
      ],
      "execution_count": null,
      "outputs": []
    },
    {
      "cell_type": "markdown",
      "metadata": {
        "id": "5eym4XWE-hds",
        "colab_type": "text"
      },
      "source": [
        "This JSON output is text formatted as a list of dictoinaries. \n",
        "\n",
        "There are 3 keys in each dictionary (word, score, and numSyllables)\n",
        "\n",
        "The values of those keys are a `str`, an `int`, and an `int`\n",
        "\n",
        "To convert this JSON string into a python object - use the `json.loads()` from the `json` library.  "
      ]
    },
    {
      "cell_type": "code",
      "metadata": {
        "id": "bnL1iWUr9dr7",
        "colab_type": "code",
        "colab": {}
      },
      "source": [
        "import json\n",
        "\n",
        "json_str = response.text\n",
        "\n",
        "rhymes_with_blue_List_of_Dict = json.loads(json_str)\n",
        "\n",
        "print(type(json_str))\n",
        "print(type(rhymes_with_blue_List_of_Dict))\n",
        "print(type(rhymes_with_blue_List_of_Dict[0]))\n",
        "print(rhymes_with_blue_List_of_Dict[1][\"word\"])"
      ],
      "execution_count": null,
      "outputs": []
    },
    {
      "cell_type": "markdown",
      "metadata": {
        "id": "_9XMVvV7_8Em",
        "colab_type": "text"
      },
      "source": [
        "You can also copy in a JSON string using the `'''        '''` literals for multi-line strings.\n",
        "\n",
        "\n",
        "To go from a python object to a JSON string, use `json.dumps()` "
      ]
    },
    {
      "cell_type": "code",
      "metadata": {
        "id": "6Mgb-NbDAiXx",
        "colab_type": "code",
        "colab": {}
      },
      "source": [
        "\n",
        "the_dict = {'g': 'grape', 'p': 'plum', 'n': 'nectarine'}\n",
        "dict_json_str = json.dumps(the_dict)\n",
        "print(type(dict_json_str))\n",
        "print(dict_json_str)"
      ],
      "execution_count": null,
      "outputs": []
    },
    {
      "cell_type": "markdown",
      "metadata": {
        "id": "rHBQirG7A2RM",
        "colab_type": "text"
      },
      "source": [
        "## **Constructing Objects with JSON**\n",
        "\n",
        "To practice constructing an object with JSON we will use the Star Wars API (https://swapi.dev/documentation#schema) that you were introduced to in 506. We will use the People Query (https://swapi.dev/documentation#people).\n",
        "\n",
        "Let's examine the first person in the People list. \n",
        "\n",
        "you can navigate to: https://swapi.dev/api/people/?search=Skywalker to examine that JSON string in detail.\n",
        "\n",
        "``` \n",
        "{\n",
        "    \"count\": 3, \n",
        "    \"next\": null, \n",
        "    \"previous\": null, \n",
        "    \"results\": [\n",
        "        {\n",
        "            \"name\": \"Luke Skywalker\", \n",
        "            \"height\": \"172\", \n",
        "            \"mass\": \"77\", \n",
        "            \"hair_color\": \"blond\", \n",
        "            \"skin_color\": \"fair\", \n",
        "            \"eye_color\": \"blue\", \n",
        "            \"birth_year\": \"19BBY\", \n",
        "            \"gender\": \"male\", \n",
        "            \"homeworld\": \"http://swapi.dev/api/planets/1/\", \n",
        "            \"films\": [\n",
        "                \"http://swapi.dev/api/films/1/\", \n",
        "                \"http://swapi.dev/api/films/2/\", \n",
        "                \"http://swapi.dev/api/films/3/\", \n",
        "                \"http://swapi.dev/api/films/6/\"\n",
        "            ], \n",
        "            \"species\": [], \n",
        "            \"vehicles\": [\n",
        "                \"http://swapi.dev/api/vehicles/14/\", \n",
        "                \"http://swapi.dev/api/vehicles/30/\"\n",
        "            ], \n",
        "            \"starships\": [\n",
        "                \"http://swapi.dev/api/starships/12/\", \n",
        "                \"http://swapi.dev/api/starships/22/\"\n",
        "            ], \n",
        "            \"created\": \"2014-12-09T13:50:51.644000Z\", \n",
        "            \"edited\": \"2014-12-20T21:17:56.891000Z\", \n",
        "            \"url\": \"http://swapi.dev/api/people/1/\"\n",
        "        }, \n",
        "        {\n",
        "            \"name\": \"Anakin Skywalker\", \n",
        "            \"height\": \"188\", \n",
        "            \"mass\": \"84\", \n",
        "            \"hair_color\": \"blond\", \n",
        "            \"skin_color\": \"fair\", \n",
        "            \"eye_color\": \"blue\", \n",
        "            \"birth_year\": \"41.9BBY\", \n",
        "            \"gender\": \"male\", \n",
        "            \"homeworld\": \"http://swapi.dev/api/planets/1/\", \n",
        "            \"films\": [\n",
        "                \"http://swapi.dev/api/films/4/\", \n",
        "                \"http://swapi.dev/api/films/5/\", \n",
        "                \"http://swapi.dev/api/films/6/\"\n",
        "            ], \n",
        "            \"species\": [], \n",
        "            \"vehicles\": [\n",
        "                \"http://swapi.dev/api/vehicles/44/\", \n",
        "                \"http://swapi.dev/api/vehicles/46/\"\n",
        "            ], \n",
        "            \"starships\": [\n",
        "                \"http://swapi.dev/api/starships/39/\", \n",
        "                \"http://swapi.dev/api/starships/59/\", \n",
        "                \"http://swapi.dev/api/starships/65/\"\n",
        "            ], \n",
        "            \"created\": \"2014-12-10T16:20:44.310000Z\", \n",
        "            \"edited\": \"2014-12-20T21:17:50.327000Z\", \n",
        "            \"url\": \"http://swapi.dev/api/people/11/\"\n",
        "        }, \n",
        "        {\n",
        "            \"name\": \"Shmi Skywalker\", \n",
        "            \"height\": \"163\", \n",
        "            \"mass\": \"unknown\", \n",
        "            \"hair_color\": \"black\", \n",
        "            \"skin_color\": \"fair\", \n",
        "            \"eye_color\": \"brown\", \n",
        "            \"birth_year\": \"72BBY\", \n",
        "            \"gender\": \"female\", \n",
        "            \"homeworld\": \"http://swapi.dev/api/planets/1/\", \n",
        "            \"films\": [\n",
        "                \"http://swapi.dev/api/films/4/\", \n",
        "                \"http://swapi.dev/api/films/5/\"\n",
        "            ], \n",
        "            \"species\": [], \n",
        "            \"vehicles\": [], \n",
        "            \"starships\": [], \n",
        "            \"created\": \"2014-12-19T17:57:41.191000Z\", \n",
        "            \"edited\": \"2014-12-20T21:17:50.401000Z\", \n",
        "            \"url\": \"http://swapi.dev/api/people/43/\"\n",
        "        }]}\n",
        "```\n",
        "\n",
        "\n"
      ]
    },
    {
      "cell_type": "markdown",
      "metadata": {
        "id": "adbdBpPlDopC",
        "colab_type": "text"
      },
      "source": [
        "Notice that URLs are used as identifiers.\n",
        "\n",
        "Look at the value for the key \"species\"\n",
        "\n",
        "```\n",
        " \"species\": [\n",
        "     \"https://swapi.co/api/species/1/\"\n",
        "            ], \n",
        "```\n",
        "if we compare with R2-D2, we see \n",
        "```\n",
        "\"species\": [\n",
        "     \"https://swapi.co/api/species/2/\"\n",
        "            ], \n",
        "```\n",
        "So this doesn't actually tell us what the species is - we have to navigate 1 level further to find that information. \n",
        "\n",
        "if we go to https://swapi.dev/api/species/1/ we see\n",
        "```\n",
        "{\n",
        "    \"name\": \"Human\", \n",
        "    \"classification\": \"mammal\", \n",
        "    \"designation\": \"sentient\", \n",
        "    ...\n",
        "}\n",
        "```\n",
        "and for https://swapi.dev/api/species/2 we see\n",
        "```\n",
        "{\n",
        "    \"name\": \"Droid\", \n",
        "    \"classification\": \"artificial\", \n",
        "    \"designation\": \"sentient\", \n",
        "     ...\n",
        "}\n",
        "```\n",
        "this is an example of nested JSON objects. \n"
      ]
    },
    {
      "cell_type": "markdown",
      "metadata": {
        "id": "J4huwd8TGMas",
        "colab_type": "text"
      },
      "source": [
        "Lets make classes in python that have this same information for each person in Star Wars\n",
        "\n",
        "Starting simply we have:"
      ]
    },
    {
      "cell_type": "code",
      "metadata": {
        "id": "NkEIhFBWGbLA",
        "colab_type": "code",
        "colab": {}
      },
      "source": [
        "class Character:\n",
        "    def __init__(self, nm, sp):\n",
        "        self.name = nm\n",
        "        self.species = sp\n",
        "\n",
        "    def info(self):\n",
        "        return self.name + \" is a \" + self.species\n",
        "\n",
        "luke = Character(\"Luke Skywalker\", \"Human\")\n",
        "c3po = Character(\"C3PO\", \"Droid\")\n",
        "\n",
        "print(luke.info())\n",
        "print(c3po.info())"
      ],
      "execution_count": null,
      "outputs": []
    },
    {
      "cell_type": "markdown",
      "metadata": {
        "id": "iARz1y07GjB-",
        "colab_type": "text"
      },
      "source": [
        "This is a good example of constructing objects by hand to test whether they work properly before automatically generating them. \n",
        "\n",
        "So how do we use the Star Wars API to make the rest. "
      ]
    },
    {
      "cell_type": "code",
      "metadata": {
        "id": "skbGzgadGico",
        "colab_type": "code",
        "colab": {}
      },
      "source": [
        "import requests\n",
        "\n",
        "BASE_URL = \"http://swapi.dev/api/people\" # only interested in people\n",
        "resp = requests.get(BASE_URL)\n",
        "results_object = resp.json() # same as calling json.loads(resp.text)\n",
        "print(results_object)\n",
        "exit()"
      ],
      "execution_count": null,
      "outputs": []
    },
    {
      "cell_type": "markdown",
      "metadata": {
        "id": "ge4OpKpsHOAe",
        "colab_type": "text"
      },
      "source": [
        "That get request fetched a lot of data - but its hard to understand its structure.\n",
        "\n",
        "If we navigate to https://swapi.dev/api/people we can see what that endpoint returns with no parameters\n",
        "\n",
        "![picture](https://drive.google.com/uc?export=view&id=1PyrhdzRRFDlqZj7rq7-EFdLHfzLVCvdG)\n"
      ]
    },
    {
      "cell_type": "markdown",
      "metadata": {
        "id": "l2jM1P2fIchP",
        "colab_type": "text"
      },
      "source": [
        "The JSON output is structured as a dictrionary of dictionaries (not a list of dictionaries as we saw in Datamuse)\n",
        "\n",
        "There are 4 keys: \"count\", \"next\", \"previous\", and \"results\". \n",
        "\n",
        "Can you think of anything related to the internet that might have those 4 elements?\n",
        "\n",
        "All of the people we are interested in are located as dictionaries within \"results\".  So we can extract that using the following command \n",
        "\n"
      ]
    },
    {
      "cell_type": "code",
      "metadata": {
        "id": "0JdLt2NkJtOI",
        "colab_type": "code",
        "colab": {}
      },
      "source": [
        "import requests\n",
        "import json\n",
        "\n",
        "BASE_URL = \"http://swapi.dev/api/people\" # only interested in people\n",
        "\n",
        "resp = requests.get(BASE_URL)\n",
        "json_str = resp.text\n",
        "Results_Dictionary = json.loads(json_str)\n",
        "\n",
        "### note instead of using the json library we can simply do this by using the \n",
        "### the built-in capability of requests\n",
        "### try the following 'Results_Dictionary = resp.json()' instead of\n",
        "### the two commands above this comment\n",
        "\n",
        "people_list = Results_Dictionary[\"results\"]\n",
        "print(people_list[0]) # print the first person in the list\n"
      ],
      "execution_count": null,
      "outputs": []
    },
    {
      "cell_type": "markdown",
      "metadata": {
        "id": "j2dio5_rJ4ll",
        "colab_type": "text"
      },
      "source": [
        "**Test your understanding.**\n",
        "*  How would you print out just the name or just the height of this person?\n",
        "*  How would you print out those values for the 4th person http://swapi.dev/api/people? "
      ]
    },
    {
      "cell_type": "markdown",
      "metadata": {
        "id": "jaAbBMooKUVt",
        "colab_type": "text"
      },
      "source": [
        "To make sure we are getting data in the format we want we can inspect some of the relevant fields."
      ]
    },
    {
      "cell_type": "code",
      "metadata": {
        "id": "CB1dx_O-KTWT",
        "colab_type": "code",
        "colab": {}
      },
      "source": [
        "import requests\n",
        "\n",
        "BASE_URL = \"http://swapi.dev/api/people\" # only interested in people\n",
        "\n",
        "resp = requests.get(BASE_URL)\n",
        "results_object = resp.json() \n",
        "people_list = results_object[\"results\"]\n",
        "for p in people_list:\n",
        "    print(p[\"name\"])"
      ],
      "execution_count": null,
      "outputs": []
    },
    {
      "cell_type": "markdown",
      "metadata": {
        "id": "Y5ku3brQMMkj",
        "colab_type": "text"
      },
      "source": [
        "Now that we have extracted all the relevant data, we still have to automatically generate the instances of our class. \n",
        "\n",
        "There are several ways to do this, but today we will use a 'default constructor' that will give us versatitilty in how we take in data"
      ]
    },
    {
      "cell_type": "code",
      "metadata": {
        "id": "HoNSWZVGM0HJ",
        "colab_type": "code",
        "colab": {}
      },
      "source": [
        "## here is a constructor that is structured to accept strings or numbers\n",
        "def square(n=None, s=None):\n",
        "    if (n is not None):\n",
        "        return n * n\n",
        "    elif (s is not None \n",
        "            and isinstance(s, str) \n",
        "            and s.isnumeric()):\n",
        "        return int(s) * int(s)\n",
        "    else: \n",
        "        return None # should throw an Error really...\n",
        "    \n",
        "print(square(n=4))\n",
        "print(square(s=\"4\"))\n",
        "print(square(s=\"Hello\"))"
      ],
      "execution_count": null,
      "outputs": []
    },
    {
      "cell_type": "markdown",
      "metadata": {
        "id": "DVhD1ZnmNDlX",
        "colab_type": "text"
      },
      "source": [
        "Comment throuh to see what this code is doing. \n",
        "\n",
        "Pay special attention to the \"None\" default value."
      ]
    },
    {
      "cell_type": "markdown",
      "metadata": {
        "id": "7Y9SJlJaNXrT",
        "colab_type": "text"
      },
      "source": [
        "We will use a similar pattern for our Character class so that we can add characters 'automatically' (with a dictionary) or 'manually' one at a time. "
      ]
    },
    {
      "cell_type": "code",
      "metadata": {
        "id": "pR-VLFjWNmtl",
        "colab_type": "code",
        "colab": {}
      },
      "source": [
        "import requests\n",
        "\n",
        "class Character:\n",
        "    def __init__(self, nm='', sp='', character_data=None):\n",
        "        if (character_data is None):\n",
        "            self.name = nm\n",
        "            self.species = sp\n",
        "        else:\n",
        "            self.name = character_data['name']\n",
        "            if (character_data[\"species\"]\n",
        "                    == ['http://swapi.dev/api/species/2/']):\n",
        "                self.species = \"Droid\"\n",
        "            else:\n",
        "                self.species = \"Human\"\n",
        "                \n",
        "\n",
        "    def info(self):\n",
        "        return self.name + \" is a \" + self.species\n",
        "\n",
        "\n",
        "#### Testing the Character class\n",
        "luke = Character(\"Luke Skywalker (Test)\", \"Human\")\n",
        "c3po = Character(\"C3PO (Test)\", \"Droid\")\n",
        "\n",
        "print(luke.info())\n",
        "print(c3po.info())\n"
      ],
      "execution_count": null,
      "outputs": []
    },
    {
      "cell_type": "markdown",
      "metadata": {
        "id": "26mv1u5mN0rv",
        "colab_type": "text"
      },
      "source": [
        "Can you see how its set up to accept either manual or automatic instantiation?  Now lets test it with the data from swapi"
      ]
    },
    {
      "cell_type": "code",
      "metadata": {
        "id": "MyOOomiFN_FJ",
        "colab_type": "code",
        "colab": {}
      },
      "source": [
        "#### Fetching Character data from swapi.dev\n",
        "BASE_URL = \"http://swapi.dev/api/people\" # only interested in people\n",
        "\n",
        "resp = requests.get(BASE_URL)\n",
        "results_object = resp.json() \n",
        "people_list = results_object[\"results\"]\n",
        "characters = []\n",
        "\n",
        "#Instance1 = Character(character_data=people_list[0])\n",
        "for p in people_list:\n",
        "    characters.append(Character(character_data=p))\n",
        "\n",
        "for c in characters:\n",
        "    print(c.info())"
      ],
      "execution_count": null,
      "outputs": []
    },
    {
      "cell_type": "markdown",
      "metadata": {
        "id": "u2JVmbO_OLev",
        "colab_type": "text"
      },
      "source": [
        "Now lets look at an example with subclasses for Human characters."
      ]
    },
    {
      "cell_type": "code",
      "metadata": {
        "id": "LFk175dJOWvk",
        "colab_type": "code",
        "colab": {}
      },
      "source": [
        "import requests\n",
        "\n",
        "class Character:\n",
        "\n",
        "\n",
        "    def __init__(self, nm='', sp='', character_data=None):\n",
        "        if (character_data is None):\n",
        "            self.name = nm\n",
        "            self.species = sp\n",
        "        else:\n",
        "            self.name = character_data['name']\n",
        "            if (character_data[\"species\"]\n",
        "                    == [\"http://swapi.dev/api/species/2/\"]):\n",
        "                self.species = \"Droid\"\n",
        "            else:\n",
        "                self.species = \"Human\"\n",
        "                \n",
        "\n",
        "    def info(self):\n",
        "        return self.name + \" is a \" + self.species\n",
        "\n",
        "\n",
        "class Human(Character):\n",
        "\n",
        "\n",
        "    def __init__(self, nm='', hc='Unkowmn', character_data=None):\n",
        "        super().__init__(nm, 'Human', character_data=character_data)\n",
        "        if (character_data is None):\n",
        "            self.hair_color = hc\n",
        "        else:\n",
        "            self.hair_color = character_data['hair_color']\n",
        "\n",
        "\n",
        "    def info(self):\n",
        "        return super().info() + \" who has \" + self.hair_color + \" hair\"\n",
        "\n",
        "\n",
        "\n",
        "#### Testing the Character class\n",
        "luke = Human(\"Luke Skywalker (Test)\", \"sandy\")\n",
        "c3po = Character(\"C3PO (Test)\", \"Droid\")\n",
        "\n",
        "print(luke.info())\n",
        "print(c3po.info())\n",
        "\n",
        "\n"
      ],
      "execution_count": null,
      "outputs": []
    },
    {
      "cell_type": "code",
      "metadata": {
        "id": "B_d9eOBEvJin",
        "colab_type": "code",
        "colab": {}
      },
      "source": [
        "#### Fetching Character data from swapi.dev\n",
        "BASE_URL = \"http://swapi.dev/api/people\" # only interested in people\n",
        "\n",
        "resp = requests.get(BASE_URL)\n",
        "results_object = resp.json() \n",
        "people_list = results_object[\"results\"]\n",
        "characters = []\n",
        "\n",
        "for p in people_list:\n",
        "    if p[\"species\"] == []:\n",
        "      characters.append(Human(character_data=p))\n",
        "    else:   \n",
        "      characters.append(Character(character_data=p))\n",
        "\n",
        "for c in characters:\n",
        "    print(c.info())"
      ],
      "execution_count": null,
      "outputs": []
    },
    {
      "cell_type": "markdown",
      "metadata": {
        "id": "h8xC2ohFOh9B",
        "colab_type": "text"
      },
      "source": [
        "Next week we'll do Unit-testing and assign your project!\n"
      ]
    }
  ]
}